{
  "nbformat": 4,
  "nbformat_minor": 0,
  "metadata": {
    "colab": {
      "name": "과제1.ipynb",
      "provenance": [],
      "collapsed_sections": [],
      "include_colab_link": true
    },
    "kernelspec": {
      "name": "python3",
      "display_name": "Python 3"
    },
    "accelerator": "GPU"
  },
  "cells": [
    {
      "cell_type": "markdown",
      "metadata": {
        "id": "view-in-github",
        "colab_type": "text"
      },
      "source": [
        "<a href=\"https://colab.research.google.com/github/jinkyukim-me/markdown_ko/blob/master/%EA%B3%BC%EC%A0%9C1.ipynb\" target=\"_parent\"><img src=\"https://colab.research.google.com/assets/colab-badge.svg\" alt=\"Open In Colab\"/></a>"
      ]
    },
    {
      "cell_type": "code",
      "metadata": {
        "id": "h1TeRKFZzLxM",
        "colab_type": "code",
        "colab": {}
      },
      "source": [
        "\n",
        "import torch\n",
        "from torchtext import data\n",
        "\n",
        "SEED = 1234\n",
        "\n",
        "torch.manual_seed(SEED)\n",
        "torch.backends.cudnn.deterministic = True\n",
        "\n",
        "TEXT = data.Field(tokenize = 'spacy')\n",
        "LABEL = data.LabelField(dtype = torch.float)"
      ],
      "execution_count": 0,
      "outputs": []
    },
    {
      "cell_type": "code",
      "metadata": {
        "id": "V76hQ8P_zWy_",
        "colab_type": "code",
        "outputId": "03f09f1b-ec13-4fb7-9be3-3a11217febde",
        "colab": {
          "base_uri": "https://localhost:8080/",
          "height": 50
        }
      },
      "source": [
        "from torchtext import datasets\n",
        "\n",
        "train_data, test_data = datasets.IMDB.splits(TEXT, LABEL)"
      ],
      "execution_count": 0,
      "outputs": [
        {
          "output_type": "stream",
          "text": [
            "downloading aclImdb_v1.tar.gz\n"
          ],
          "name": "stdout"
        },
        {
          "output_type": "stream",
          "text": [
            "aclImdb_v1.tar.gz: 100%|██████████| 84.1M/84.1M [00:05<00:00, 14.6MB/s]\n"
          ],
          "name": "stderr"
        }
      ]
    },
    {
      "cell_type": "code",
      "metadata": {
        "id": "xMd0qMV3zad7",
        "colab_type": "code",
        "outputId": "a1fbd291-52e1-476b-ca03-e3b98f638ff4",
        "colab": {
          "base_uri": "https://localhost:8080/",
          "height": 50
        }
      },
      "source": [
        "print(f'Number of training examples: {len(train_data)}')\n",
        "print(f'Number of testing examples: {len(test_data)}')"
      ],
      "execution_count": 0,
      "outputs": [
        {
          "output_type": "stream",
          "text": [
            "Number of training examples: 25000\n",
            "Number of testing examples: 25000\n"
          ],
          "name": "stdout"
        }
      ]
    },
    {
      "cell_type": "code",
      "metadata": {
        "id": "l3oOWBexzaX5",
        "colab_type": "code",
        "outputId": "9eae7390-9b13-45a7-ec7d-7b8e8fe1e63c",
        "colab": {
          "base_uri": "https://localhost:8080/",
          "height": 53
        }
      },
      "source": [
        "print(vars(train_data.examples[0]))"
      ],
      "execution_count": 0,
      "outputs": [
        {
          "output_type": "stream",
          "text": [
            "{'text': ['Tales', 'from', 'the', 'Crypt', ':', 'And', 'All', 'Through', 'the', 'House', 'starts', 'on', 'Christmas', 'Eve', 'as', 'Elizabeth', '(', 'Mary', 'Ellen', 'Trainor', ')', 'kills', 'her', 'husband', 'Joseph', '(', 'Marshall', 'Bell', ')', ',', 'she', 'drags', 'his', 'body', 'outside', 'ready', 'to', 'throw', 'it', 'down', 'a', 'well', 'but', 'while', 'doing', 'so', 'misses', 'an', 'important', 'news', 'bulletin', 'on', 'the', 'radio', 'that', 'says', 'a', 'homicidal', 'maniac', '(', 'Larry', 'Drake', ')', 'dressed', 'as', 'Santa', 'Clause', 'has', 'escaped', 'from', 'a', 'local', 'mental', 'asylum', '&', 'has', 'already', 'killed', 'several', 'women', 'with', 'Elizabeth', 'next', 'on', 'his', 'list', 'but', 'she', 'has', 'other', 'ideas', '&', 'tries', 'to', 'turn', 'the', 'seemingly', 'dangerous', 'situation', 'to', 'her', 'advantage', '...', '<br', '/><br', '/>This', 'Tales', 'from', 'the', 'Crypt', 'story', 'was', 'episode', '2', 'from', 'season', '1', ',', 'directed', 'by', 'the', 'one', 'of', 'the', 'show', \"'s\", 'regular', 'executive', 'producers', 'Robert', 'Zemeckis', 'And', 'All', 'Through', 'the', 'House', 'is', 'a', 'decent', 'enough', 'watch', '.', 'The', 'script', 'by', 'Fred', 'Dekker', 'was', 'actually', 'based', 'on', 'a', 'story', 'appearing', 'in', 'the', 'comic', \"'\", 'The', 'Vault', 'of', 'Horror', \"'\", '&', 'was', 'originally', 'adapted', 'to', 'film', 'as', 'one', 'episode', 'from', 'the', 'Britsih', 'horror', 'anthology', 'film', 'Tales', 'from', 'the', 'Crypt', '(', '1972', ')', 'which', 'starred', 'Joan', 'Collins', 'as', 'the', 'murderous', 'wife', 'character', 'here', 'played', 'by', 'Ellen', 'Trainor', '.', 'This', 'particular', 'version', 'is', 'good', 'enough', 'but', 'does', \"n't\", 'do', 'anything', 'different', 'or', 'special', '&', 'is', 'a', 'bit', 'too', 'linear', '&', 'predictable', 'to', 'be', 'considered', 'a', 'classic', '.', 'At', 'only', '25', 'minutes', 'in', 'length', 'it', 'certainly', 'moves', 'along', 'at', 'a', 'good', 'pace', ',', 'the', 'story', 'is', 'just', 'about', 'macabre', 'enough', '&', 'it', 'generally', 'provides', 'decent', 'entertainment', '&', 'I', 'quite', 'liked', 'the', 'downbeat', 'ending', '.', 'This', 'time', 'there', 'are', 'Christmas', 'themed', 'opening', '&', 'closing', 'Crypt', 'Keeper', '(', 'John', 'Kassir', ')', 'segments', 'complete', 'with', 'the', 'usual', 'puns.<br', '/><br', '/>Director', 'Zemeckis', 'does', 'a', 'good', 'job', '&', 'there', \"'s\", 'a', 'nice', 'winterly', 'atmosphere', 'with', 'a', 'hint', 'of', 'Christmas', 'influence', 'as', 'well', '.', 'There', \"'s\", 'not', 'much', 'gore', 'here', ',', 'someone', 'has', 'a', 'poker', 'stuck', 'in', 'their', 'head', ',', 'someone', \"'s\", 'face', 'is', 'cut', 'with', 'an', 'icicle', ',', 'someone', \"'s\", 'arm', 'is', 'cut', 'with', 'an', 'axe', '&', 'there', \"'s\", 'some', 'blood', 'splatter', 'but', 'generally', 'speaking', 'it', \"'s\", 'not', 'that', 'graphic', '.', 'The', 'acting', 'by', 'a', 'small', 'cast', 'is', 'pretty', 'good.<br', '/><br', '/>And', 'All', 'Through', 'the', 'House', 'is', \"n't\", 'the', 'best', 'tale', 'from', 'the', 'crypt', 'but', 'it', \"'s\", 'a', 'decent', 'one', 'all', 'the', 'same', ',', 'worth', 'a', 'watch', 'but', 'after', 'the', 'comic', 'book', 'story', '&', 'original', '1972', 'film', 'version', 'did', 'we', 'really', 'need', 'or', 'even', 'want', 'this', '?'], 'label': 'pos'}\n"
          ],
          "name": "stdout"
        }
      ]
    },
    {
      "cell_type": "code",
      "metadata": {
        "id": "RLFzLy_VzdPz",
        "colab_type": "code",
        "colab": {}
      },
      "source": [
        "import random\n",
        "\n",
        "train_data, valid_data = train_data.split(random_state = random.seed(SEED))"
      ],
      "execution_count": 0,
      "outputs": []
    },
    {
      "cell_type": "code",
      "metadata": {
        "id": "8EeTY7d4zd75",
        "colab_type": "code",
        "outputId": "d1a87f37-09a4-4cb6-c3f2-0a1c819f0ba7",
        "colab": {
          "base_uri": "https://localhost:8080/",
          "height": 66
        }
      },
      "source": [
        "print(f'Number of training examples: {len(train_data)}')\n",
        "print(f'Number of validation examples: {len(valid_data)}')\n",
        "print(f'Number of testing examples: {len(test_data)}')"
      ],
      "execution_count": 0,
      "outputs": [
        {
          "output_type": "stream",
          "text": [
            "Number of training examples: 17500\n",
            "Number of validation examples: 7500\n",
            "Number of testing examples: 25000\n"
          ],
          "name": "stdout"
        }
      ]
    },
    {
      "cell_type": "code",
      "metadata": {
        "id": "Y-wu5rSCzgQc",
        "colab_type": "code",
        "colab": {}
      },
      "source": [
        "MAX_VOCAB_SIZE = 25_000\n",
        "\n",
        "TEXT.build_vocab(train_data, max_size = MAX_VOCAB_SIZE)\n",
        "LABEL.build_vocab(train_data)"
      ],
      "execution_count": 0,
      "outputs": []
    },
    {
      "cell_type": "code",
      "metadata": {
        "id": "IL6XtwlrzhxI",
        "colab_type": "code",
        "outputId": "1f880434-8363-46c4-b622-074d8f7f94ce",
        "colab": {
          "base_uri": "https://localhost:8080/",
          "height": 50
        }
      },
      "source": [
        "print(f\"Unique tokens in TEXT vocabulary: {len(TEXT.vocab)}\")\n",
        "print(f\"Unique tokens in LABEL vocabulary: {len(LABEL.vocab)}\")"
      ],
      "execution_count": 0,
      "outputs": [
        {
          "output_type": "stream",
          "text": [
            "Unique tokens in TEXT vocabulary: 25002\n",
            "Unique tokens in LABEL vocabulary: 2\n"
          ],
          "name": "stdout"
        }
      ]
    },
    {
      "cell_type": "code",
      "metadata": {
        "id": "t5mYoqktzjzV",
        "colab_type": "code",
        "outputId": "d795e50c-f039-4b6c-e295-5499c8567715",
        "colab": {
          "base_uri": "https://localhost:8080/",
          "height": 53
        }
      },
      "source": [
        "print(TEXT.vocab.freqs.most_common(20))"
      ],
      "execution_count": 0,
      "outputs": [
        {
          "output_type": "stream",
          "text": [
            "[('the', 202836), (',', 193512), ('.', 164634), ('and', 109723), ('a', 109323), ('of', 100734), ('to', 93666), ('is', 76362), ('in', 61591), ('I', 53988), ('it', 53802), ('that', 49203), ('\"', 44491), (\"'s\", 43435), ('this', 42450), ('-', 37336), ('/><br', 35839), ('was', 35046), ('as', 30652), ('with', 29849)]\n"
          ],
          "name": "stdout"
        }
      ]
    },
    {
      "cell_type": "code",
      "metadata": {
        "id": "F5R_VsaKzky1",
        "colab_type": "code",
        "outputId": "906133c9-790a-439c-d4d9-42e840f43bcd",
        "colab": {
          "base_uri": "https://localhost:8080/",
          "height": 33
        }
      },
      "source": [
        "print(TEXT.vocab.itos[:10])"
      ],
      "execution_count": 0,
      "outputs": [
        {
          "output_type": "stream",
          "text": [
            "['<unk>', '<pad>', 'the', ',', '.', 'and', 'a', 'of', 'to', 'is']\n"
          ],
          "name": "stdout"
        }
      ]
    },
    {
      "cell_type": "code",
      "metadata": {
        "id": "4AhRHZzJzl5w",
        "colab_type": "code",
        "outputId": "9c849360-8a9f-4a94-d5f8-16cb7ffbf6da",
        "colab": {
          "base_uri": "https://localhost:8080/",
          "height": 33
        }
      },
      "source": [
        "print(LABEL.vocab.stoi)"
      ],
      "execution_count": 0,
      "outputs": [
        {
          "output_type": "stream",
          "text": [
            "defaultdict(<function _default_unk_index at 0x7f5b10282730>, {'neg': 0, 'pos': 1})\n"
          ],
          "name": "stdout"
        }
      ]
    },
    {
      "cell_type": "code",
      "metadata": {
        "id": "Ge45NT9ZznXZ",
        "colab_type": "code",
        "colab": {}
      },
      "source": [
        "BATCH_SIZE = 64\n",
        "\n",
        "device = torch.device('cuda' if torch.cuda.is_available() else 'cpu')\n",
        "\n",
        "train_iterator, valid_iterator, test_iterator = data.BucketIterator.splits(\n",
        "    (train_data, valid_data, test_data), \n",
        "    batch_size = BATCH_SIZE,\n",
        "    device = device)"
      ],
      "execution_count": 0,
      "outputs": []
    },
    {
      "cell_type": "code",
      "metadata": {
        "id": "vwLbiUnzzoGA",
        "colab_type": "code",
        "colab": {}
      },
      "source": [
        "import torch.nn as nn\n",
        "\n",
        "class RNN(nn.Module):\n",
        "    def __init__(self, input_dim, embedding_dim, hidden_dim, output_dim):\n",
        "        \n",
        "        super().__init__()\n",
        "        \n",
        "        self.embedding = nn.Embedding(input_dim, embedding_dim)\n",
        "        \n",
        "        self.rnn = nn.RNN(embedding_dim, hidden_dim)\n",
        "        \n",
        "        self.fc = nn.Linear(hidden_dim, output_dim)\n",
        "        \n",
        "    def forward(self, text):\n",
        "\n",
        "        #text = [sent len, batch size]\n",
        "        \n",
        "        embedded = self.embedding(text)\n",
        "        \n",
        "        #embedded = [sent len, batch size, emb dim]\n",
        "        \n",
        "        output, hidden = self.rnn(embedded)\n",
        "        \n",
        "        #output = [sent len, batch size, hid dim]\n",
        "        #hidden = [1, batch size, hid dim]\n",
        "        \n",
        "        assert torch.equal(output[-1,:,:], hidden.squeeze(0))\n",
        "        \n",
        "        return self.fc(hidden.squeeze(0))"
      ],
      "execution_count": 0,
      "outputs": []
    },
    {
      "cell_type": "code",
      "metadata": {
        "id": "spQfqHgFzrOg",
        "colab_type": "code",
        "colab": {}
      },
      "source": [
        "INPUT_DIM = len(TEXT.vocab)\n",
        "EMBEDDING_DIM = 100\n",
        "HIDDEN_DIM = 256\n",
        "OUTPUT_DIM = 1\n",
        "\n",
        "model = RNN(INPUT_DIM, EMBEDDING_DIM, HIDDEN_DIM, OUTPUT_DIM)"
      ],
      "execution_count": 0,
      "outputs": []
    },
    {
      "cell_type": "code",
      "metadata": {
        "id": "v8MwIuE-zsed",
        "colab_type": "code",
        "outputId": "9a236a35-50c2-453e-d919-5b0d848622b0",
        "colab": {
          "base_uri": "https://localhost:8080/",
          "height": 33
        }
      },
      "source": [
        "def count_parameters(model):\n",
        "    return sum(p.numel() for p in model.parameters() if p.requires_grad)\n",
        "\n",
        "print(f'The model has {count_parameters(model):,} trainable parameters')"
      ],
      "execution_count": 0,
      "outputs": [
        {
          "output_type": "stream",
          "text": [
            "The model has 2,592,105 trainable parameters\n"
          ],
          "name": "stdout"
        }
      ]
    },
    {
      "cell_type": "code",
      "metadata": {
        "id": "ttRQX7dRztvi",
        "colab_type": "code",
        "colab": {}
      },
      "source": [
        "import torch.optim as optim\n",
        "\n",
        "optimizer = optim.SGD(model.parameters(), lr=1e-3)"
      ],
      "execution_count": 0,
      "outputs": []
    },
    {
      "cell_type": "code",
      "metadata": {
        "id": "-7mDNCTAzwJ-",
        "colab_type": "code",
        "colab": {}
      },
      "source": [
        "criterion = nn.BCEWithLogitsLoss()"
      ],
      "execution_count": 0,
      "outputs": []
    },
    {
      "cell_type": "code",
      "metadata": {
        "id": "jwl3b19jzxOE",
        "colab_type": "code",
        "colab": {}
      },
      "source": [
        "model = model.to(device)\n",
        "criterion = criterion.to(device)"
      ],
      "execution_count": 0,
      "outputs": []
    },
    {
      "cell_type": "code",
      "metadata": {
        "id": "ljhMXy8rzzfn",
        "colab_type": "code",
        "colab": {}
      },
      "source": [
        "def binary_accuracy(preds, y):\n",
        "    \"\"\"\n",
        "    Returns accuracy per batch, i.e. if you get 8/10 right, this returns 0.8, NOT 8\n",
        "    \"\"\"\n",
        "\n",
        "    #round predictions to the closest integer\n",
        "    rounded_preds = torch.round(torch.sigmoid(preds))\n",
        "    correct = (rounded_preds == y).float() #convert into float for division \n",
        "    acc = correct.sum() / len(correct)\n",
        "    return acc"
      ],
      "execution_count": 0,
      "outputs": []
    },
    {
      "cell_type": "code",
      "metadata": {
        "id": "x1Fn3TC4z3C1",
        "colab_type": "code",
        "colab": {}
      },
      "source": [
        "def train(model, iterator, optimizer, criterion):\n",
        "    \n",
        "    epoch_loss = 0\n",
        "    epoch_acc = 0\n",
        "    \n",
        "    model.train()\n",
        "    \n",
        "    for batch in iterator:\n",
        "        \n",
        "        optimizer.zero_grad()\n",
        "                \n",
        "        predictions = model(batch.text).squeeze(1)\n",
        "        \n",
        "        loss = criterion(predictions, batch.label)\n",
        "        \n",
        "        acc = binary_accuracy(predictions, batch.label)\n",
        "        \n",
        "        loss.backward()\n",
        "        \n",
        "        optimizer.step()\n",
        "        \n",
        "        epoch_loss += loss.item()\n",
        "        epoch_acc += acc.item()\n",
        "        \n",
        "    return epoch_loss / len(iterator), epoch_acc / len(iterator)"
      ],
      "execution_count": 0,
      "outputs": []
    },
    {
      "cell_type": "code",
      "metadata": {
        "id": "K9AO4OQK0LDt",
        "colab_type": "code",
        "colab": {}
      },
      "source": [
        "def evaluate(model, iterator, criterion):\n",
        "    \n",
        "    epoch_loss = 0\n",
        "    epoch_acc = 0\n",
        "    \n",
        "    model.eval()\n",
        "    \n",
        "    with torch.no_grad():\n",
        "    \n",
        "        for batch in iterator:\n",
        "\n",
        "            predictions = model(batch.text).squeeze(1)\n",
        "            \n",
        "            loss = criterion(predictions, batch.label)\n",
        "            \n",
        "            acc = binary_accuracy(predictions, batch.label)\n",
        "\n",
        "            epoch_loss += loss.item()\n",
        "            epoch_acc += acc.item()\n",
        "        \n",
        "    return epoch_loss / len(iterator), epoch_acc / len(iterator)"
      ],
      "execution_count": 0,
      "outputs": []
    },
    {
      "cell_type": "code",
      "metadata": {
        "id": "s0Ft3fTi0Mbm",
        "colab_type": "code",
        "colab": {}
      },
      "source": [
        "import time\n",
        "\n",
        "def epoch_time(start_time, end_time):\n",
        "    elapsed_time = end_time - start_time\n",
        "    elapsed_mins = int(elapsed_time / 60)\n",
        "    elapsed_secs = int(elapsed_time - (elapsed_mins * 60))\n",
        "    return elapsed_mins, elapsed_secs"
      ],
      "execution_count": 0,
      "outputs": []
    },
    {
      "cell_type": "code",
      "metadata": {
        "id": "CCgfvVw_0N-F",
        "colab_type": "code",
        "outputId": "aa2a8d22-66a8-4a80-cf89-2984fc3dceb0",
        "colab": {
          "base_uri": "https://localhost:8080/",
          "height": 266
        }
      },
      "source": [
        "N_EPOCHS = 5\n",
        "\n",
        "best_valid_loss = float('inf')\n",
        "\n",
        "for epoch in range(N_EPOCHS):\n",
        "\n",
        "    start_time = time.time()\n",
        "    \n",
        "    train_loss, train_acc = train(model, train_iterator, optimizer, criterion)\n",
        "    valid_loss, valid_acc = evaluate(model, valid_iterator, criterion)\n",
        "    \n",
        "    end_time = time.time()\n",
        "\n",
        "    epoch_mins, epoch_secs = epoch_time(start_time, end_time)\n",
        "    \n",
        "    if valid_loss < best_valid_loss:\n",
        "        best_valid_loss = valid_loss\n",
        "        torch.save(model.state_dict(), 'tut1-model.pt')\n",
        "    \n",
        "    print(f'Epoch: {epoch+1:02} | Epoch Time: {epoch_mins}m {epoch_secs}s')\n",
        "    print(f'\\tTrain Loss: {train_loss:.3f} | Train Acc: {train_acc*100:.2f}%')\n",
        "    print(f'\\t Val. Loss: {valid_loss:.3f} |  Val. Acc: {valid_acc*100:.2f}%')"
      ],
      "execution_count": 0,
      "outputs": [
        {
          "output_type": "stream",
          "text": [
            "Epoch: 01 | Epoch Time: 0m 22s\n",
            "\tTrain Loss: 0.694 | Train Acc: 50.28%\n",
            "\t Val. Loss: 0.697 |  Val. Acc: 49.89%\n",
            "Epoch: 02 | Epoch Time: 0m 21s\n",
            "\tTrain Loss: 0.693 | Train Acc: 49.72%\n",
            "\t Val. Loss: 0.697 |  Val. Acc: 49.95%\n",
            "Epoch: 03 | Epoch Time: 0m 22s\n",
            "\tTrain Loss: 0.693 | Train Acc: 50.23%\n",
            "\t Val. Loss: 0.697 |  Val. Acc: 49.76%\n",
            "Epoch: 04 | Epoch Time: 0m 22s\n",
            "\tTrain Loss: 0.693 | Train Acc: 49.71%\n",
            "\t Val. Loss: 0.697 |  Val. Acc: 49.26%\n",
            "Epoch: 05 | Epoch Time: 0m 22s\n",
            "\tTrain Loss: 0.693 | Train Acc: 50.24%\n",
            "\t Val. Loss: 0.697 |  Val. Acc: 50.40%\n"
          ],
          "name": "stdout"
        }
      ]
    },
    {
      "cell_type": "code",
      "metadata": {
        "id": "1-DaipWq0Pcf",
        "colab_type": "code",
        "outputId": "11cd28a7-2c67-4117-e60e-276ab963cb03",
        "colab": {
          "base_uri": "https://localhost:8080/",
          "height": 33
        }
      },
      "source": [
        "model.load_state_dict(torch.load('tut1-model.pt'))\n",
        "\n",
        "test_loss, test_acc = evaluate(model, test_iterator, criterion)\n",
        "\n",
        "print(f'Test Loss: {test_loss:.3f} | Test Acc: {test_acc*100:.2f}%')"
      ],
      "execution_count": 0,
      "outputs": [
        {
          "output_type": "stream",
          "text": [
            "Test Loss: 0.709 | Test Acc: 47.79%\n"
          ],
          "name": "stdout"
        }
      ]
    }
  ]
}